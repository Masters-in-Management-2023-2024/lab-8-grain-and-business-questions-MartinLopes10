{
  "cells": [
    {
      "cell_type": "markdown",
      "metadata": {
        "id": "nBSsdwA4-8Rs"
      },
      "source": [
        "# Diamond Company Analytics Challenge\n",
        "\n",
        "**Time:** 35 minutes\n",
        "\n",
        "**Scenario:** You are the new data analyst at a prestigious diamond company. The CEO has called an urgent meeting and needs answers to critical business questions about the inventory.\n",
        "\n",
        "**Your Mission:** Analyze the diamond inventory data and provide insights to guide strategic decisions."
      ]
    },
    {
      "cell_type": "code",
      "execution_count": null,
      "metadata": {
        "colab": {
          "base_uri": "https://localhost:8080/"
        },
        "id": "5PKTHMaR-8Rs",
        "outputId": "4d63025b-8a17-4ef2-9476-6b4baf2d4141"
      },
      "outputs": [
        {
          "output_type": "stream",
          "name": "stdout",
          "text": [
            "Loading diamonds dataset...\n",
            "Dataset loaded successfully!\n"
          ]
        }
      ],
      "source": [
        "import polars as pl\n",
        "\n",
        "# Load the diamonds dataset\n",
        "print(\"Loading diamonds dataset...\")\n",
        "df = pl.read_csv('https://raw.githubusercontent.com/pycaret/pycaret/master/datasets/diamond.csv')\n",
        "print(\"Dataset loaded successfully!\")"
      ]
    },
    {
      "cell_type": "markdown",
      "metadata": {
        "id": "WM0GaOAf-8Rs"
      },
      "source": [
        "## Section 1: Initial Inventory Assessment (5 minutes)\n",
        "\n",
        "The CEO walks in: \"Before we dive into specifics, I need to understand what we're working with. Give me the basics about our inventory database.\""
      ]
    },
    {
      "cell_type": "markdown",
      "metadata": {
        "id": "R1YF4Mq5-8Rt"
      },
      "source": [
        "### Question 1: \"How extensive is our inventory database?\"\n",
        "\n",
        "The CEO needs to know the scale of data you're analyzing."
      ]
    },
    {
      "cell_type": "code",
      "execution_count": null,
      "metadata": {
        "colab": {
          "base_uri": "https://localhost:8080/"
        },
        "id": "woTxsXtG-8Rt",
        "outputId": "9914b003-8e26-47ac-e7a3-7cb3b312fe45"
      },
      "outputs": [
        {
          "output_type": "stream",
          "name": "stdout",
          "text": [
            "Total records (diamonds): 6000\n",
            "Total attributes tracked: 8\n"
          ]
        }
      ],
      "source": [
        "# Your code here:\n",
        "print(\"Total records (diamonds):\", df.shape[0])\n",
        "print(\"Total attributes tracked:\", df.shape[1])"
      ]
    },
    {
      "cell_type": "markdown",
      "metadata": {
        "id": "9KQkl9XB-8Rt"
      },
      "source": [
        "### Question 2: \"What information do we track about each diamond?\"\n",
        "\n",
        "List all the characteristics we record."
      ]
    },
    {
      "cell_type": "code",
      "execution_count": null,
      "metadata": {
        "colab": {
          "base_uri": "https://localhost:8080/"
        },
        "id": "OMAxqJfu-8Rt",
        "outputId": "d0be9e52-c979-44c0-861b-3ed94da0eeec"
      },
      "outputs": [
        {
          "output_type": "stream",
          "name": "stdout",
          "text": [
            "Attributes tracked about each diamond:\n",
            "['Carat Weight', 'Cut', 'Color', 'Clarity', 'Polish', 'Symmetry', 'Report', 'Price']\n"
          ]
        }
      ],
      "source": [
        "# Your code here:\n",
        "print(\"Attributes tracked about each diamond:\")\n",
        "print(df.columns)"
      ]
    },
    {
      "cell_type": "markdown",
      "metadata": {
        "id": "s2e1pJ1P-8Rt"
      },
      "source": [
        "### Question 3: \"When I look at one line in this database, what am I looking at?\"\n",
        "\n",
        "Explain in business terms: Each of the row in the database represents on of the single diamond in the company inventory. In the database there is also the physical atrributes of the diamond, color, cut clarity and the price."
      ]
    },
    {
      "cell_type": "markdown",
      "metadata": {
        "id": "frKfvS8J-8Rt"
      },
      "source": [
        "**Your answer:** Each row represents:"
      ]
    },
    {
      "cell_type": "markdown",
      "metadata": {
        "id": "BZFjuGyW-8Rt"
      },
      "source": [
        "## Section 2: Strategic Business Questions (20 minutes)\n",
        "\n",
        "The CEO continues: \"Now let's get to the important questions. Our board meeting is tomorrow and I need concrete numbers.\""
      ]
    },
    {
      "cell_type": "markdown",
      "metadata": {
        "id": "YwpY3yjc-8Rt"
      },
      "source": [
        "### Question 4: \"We're considering expanding our storage facilities. How many total carats do we have in inventory? I need to know if our vaults can handle the weight.\"\n",
        "\n",
        "Think about what measurement would help answer this."
      ]
    },
    {
      "cell_type": "code",
      "execution_count": null,
      "metadata": {
        "colab": {
          "base_uri": "https://localhost:8080/",
          "height": 129
        },
        "id": "GuX2pfxt-8Rt",
        "outputId": "a3d15b0b-9d3b-4bd9-f6c9-a3cd85f51dc6"
      },
      "outputs": [
        {
          "output_type": "display_data",
          "data": {
            "text/plain": [
              "shape: (1, 3)\n",
              "┌──────────────┬─────────────┬─────────────────┐\n",
              "│ total_carats ┆ total_grams ┆ total_kilograms │\n",
              "│ ---          ┆ ---         ┆ ---             │\n",
              "│ f64          ┆ f64         ┆ f64             │\n",
              "╞══════════════╪═════════════╪═════════════════╡\n",
              "│ 8007.12      ┆ 1601.424    ┆ 1.601424        │\n",
              "└──────────────┴─────────────┴─────────────────┘"
            ],
            "text/html": [
              "<div><style>\n",
              ".dataframe > thead > tr,\n",
              ".dataframe > tbody > tr {\n",
              "  text-align: right;\n",
              "  white-space: pre-wrap;\n",
              "}\n",
              "</style>\n",
              "<small>shape: (1, 3)</small><table border=\"1\" class=\"dataframe\"><thead><tr><th>total_carats</th><th>total_grams</th><th>total_kilograms</th></tr><tr><td>f64</td><td>f64</td><td>f64</td></tr></thead><tbody><tr><td>8007.12</td><td>1601.424</td><td>1.601424</td></tr></tbody></table></div>"
            ]
          },
          "metadata": {}
        }
      ],
      "source": [
        "# Your code here:\n",
        "\n",
        "totals = df.select(\n",
        "    pl.col(\"Carat Weight\").cast(pl.Float64).fill_null(0).sum().alias(\"total_carats\"),\n",
        "    (pl.col(\"Carat Weight\").cast(pl.Float64).fill_null(0).sum() * 0.2).alias(\"total_grams\"),        # 1 carat = 0.2 grams\n",
        "    (pl.col(\"Carat Weight\").cast(pl.Float64).fill_null(0).sum() * 0.0002).alias(\"total_kilograms\")  # grams -> kg\n",
        ")\n",
        "\n",
        "display(totals)"
      ]
    },
    {
      "cell_type": "markdown",
      "metadata": {
        "id": "foTYi77p-8Rt"
      },
      "source": [
        "### Question 5: \"Our new marketing campaign claims we have 'the widest variety of cuts in the industry.' Can you verify this?\"\n",
        "\n",
        "The CEO wants to know about variety, not quantity."
      ]
    },
    {
      "cell_type": "code",
      "execution_count": null,
      "metadata": {
        "colab": {
          "base_uri": "https://localhost:8080/",
          "height": 421
        },
        "id": "dwe71NdW-8Rt",
        "outputId": "a698a752-4aed-43e0-b6fe-aa21307eca9b"
      },
      "outputs": [
        {
          "output_type": "stream",
          "name": "stdout",
          "text": [
            "Distinct cuts:\n"
          ]
        },
        {
          "output_type": "display_data",
          "data": {
            "text/plain": [
              "shape: (5, 1)\n",
              "┌─────────────────┐\n",
              "│ Cut             │\n",
              "│ ---             │\n",
              "│ str             │\n",
              "╞═════════════════╡\n",
              "│ Fair            │\n",
              "│ Ideal           │\n",
              "│ Signature-Ideal │\n",
              "│ Good            │\n",
              "│ Very Good       │\n",
              "└─────────────────┘"
            ],
            "text/html": [
              "<div><style>\n",
              ".dataframe > thead > tr,\n",
              ".dataframe > tbody > tr {\n",
              "  text-align: right;\n",
              "  white-space: pre-wrap;\n",
              "}\n",
              "</style>\n",
              "<small>shape: (5, 1)</small><table border=\"1\" class=\"dataframe\"><thead><tr><th>Cut</th></tr><tr><td>str</td></tr></thead><tbody><tr><td>&quot;Fair&quot;</td></tr><tr><td>&quot;Ideal&quot;</td></tr><tr><td>&quot;Signature-Ideal&quot;</td></tr><tr><td>&quot;Good&quot;</td></tr><tr><td>&quot;Very Good&quot;</td></tr></tbody></table></div>"
            ]
          },
          "metadata": {}
        },
        {
          "output_type": "stream",
          "name": "stdout",
          "text": [
            "\n",
            "Number of unique cuts:\n"
          ]
        },
        {
          "output_type": "display_data",
          "data": {
            "text/plain": [
              "shape: (1, 1)\n",
              "┌─────────────────┐\n",
              "│ num_unique_cuts │\n",
              "│ ---             │\n",
              "│ u32             │\n",
              "╞═════════════════╡\n",
              "│ 5               │\n",
              "└─────────────────┘"
            ],
            "text/html": [
              "<div><style>\n",
              ".dataframe > thead > tr,\n",
              ".dataframe > tbody > tr {\n",
              "  text-align: right;\n",
              "  white-space: pre-wrap;\n",
              "}\n",
              "</style>\n",
              "<small>shape: (1, 1)</small><table border=\"1\" class=\"dataframe\"><thead><tr><th>num_unique_cuts</th></tr><tr><td>u32</td></tr></thead><tbody><tr><td>5</td></tr></tbody></table></div>"
            ]
          },
          "metadata": {}
        }
      ],
      "source": [
        "# Your code here:\n",
        "unique_cuts = df.select(pl.col(\"Cut\").unique())\n",
        "num_cuts = df.select(pl.col(\"Cut\").n_unique().alias(\"num_unique_cuts\"))\n",
        "\n",
        "print(\"Distinct cuts:\")\n",
        "display(unique_cuts)\n",
        "print(\"\\nNumber of unique cuts:\")\n",
        "display(num_cuts)"
      ]
    },
    {
      "cell_type": "markdown",
      "metadata": {
        "id": "yHqBHPx3-8Ru"
      },
      "source": [
        "### Question 6: \"I'm meeting with our insurance company. They need to know our price exposure - what's our most and least valuable diamond?\""
      ]
    },
    {
      "cell_type": "code",
      "execution_count": null,
      "metadata": {
        "colab": {
          "base_uri": "https://localhost:8080/",
          "height": 295
        },
        "id": "grP1O2O3-8Ru",
        "outputId": "c089e949-5ffb-4a8e-d17d-4fa5b92a6af6"
      },
      "outputs": [
        {
          "output_type": "stream",
          "name": "stdout",
          "text": [
            "Most valuable diamond:\n"
          ]
        },
        {
          "output_type": "display_data",
          "data": {
            "text/plain": [
              "shape: (1, 8)\n",
              "┌──────────────┬───────┬───────┬─────────┬────────┬──────────┬────────┬────────┐\n",
              "│ Carat Weight ┆ Cut   ┆ Color ┆ Clarity ┆ Polish ┆ Symmetry ┆ Report ┆ Price  │\n",
              "│ ---          ┆ ---   ┆ ---   ┆ ---     ┆ ---    ┆ ---      ┆ ---    ┆ ---    │\n",
              "│ f64          ┆ str   ┆ str   ┆ str     ┆ str    ┆ str      ┆ str    ┆ i64    │\n",
              "╞══════════════╪═══════╪═══════╪═════════╪════════╪══════════╪════════╪════════╡\n",
              "│ 2.79         ┆ Ideal ┆ D     ┆ IF      ┆ EX     ┆ EX       ┆ GIA    ┆ 101561 │\n",
              "└──────────────┴───────┴───────┴─────────┴────────┴──────────┴────────┴────────┘"
            ],
            "text/html": [
              "<div><style>\n",
              ".dataframe > thead > tr,\n",
              ".dataframe > tbody > tr {\n",
              "  text-align: right;\n",
              "  white-space: pre-wrap;\n",
              "}\n",
              "</style>\n",
              "<small>shape: (1, 8)</small><table border=\"1\" class=\"dataframe\"><thead><tr><th>Carat Weight</th><th>Cut</th><th>Color</th><th>Clarity</th><th>Polish</th><th>Symmetry</th><th>Report</th><th>Price</th></tr><tr><td>f64</td><td>str</td><td>str</td><td>str</td><td>str</td><td>str</td><td>str</td><td>i64</td></tr></thead><tbody><tr><td>2.79</td><td>&quot;Ideal&quot;</td><td>&quot;D&quot;</td><td>&quot;IF&quot;</td><td>&quot;EX&quot;</td><td>&quot;EX&quot;</td><td>&quot;GIA&quot;</td><td>101561</td></tr></tbody></table></div>"
            ]
          },
          "metadata": {}
        },
        {
          "output_type": "stream",
          "name": "stdout",
          "text": [
            "\n",
            "Least valuable diamond:\n"
          ]
        },
        {
          "output_type": "display_data",
          "data": {
            "text/plain": [
              "shape: (1, 8)\n",
              "┌──────────────┬──────┬───────┬─────────┬────────┬──────────┬────────┬───────┐\n",
              "│ Carat Weight ┆ Cut  ┆ Color ┆ Clarity ┆ Polish ┆ Symmetry ┆ Report ┆ Price │\n",
              "│ ---          ┆ ---  ┆ ---   ┆ ---     ┆ ---    ┆ ---      ┆ ---    ┆ ---   │\n",
              "│ f64          ┆ str  ┆ str   ┆ str     ┆ str    ┆ str      ┆ str    ┆ i64   │\n",
              "╞══════════════╪══════╪═══════╪═════════╪════════╪══════════╪════════╪═══════╡\n",
              "│ 0.77         ┆ Good ┆ I     ┆ VS1     ┆ VG     ┆ G        ┆ AGSL   ┆ 2184  │\n",
              "└──────────────┴──────┴───────┴─────────┴────────┴──────────┴────────┴───────┘"
            ],
            "text/html": [
              "<div><style>\n",
              ".dataframe > thead > tr,\n",
              ".dataframe > tbody > tr {\n",
              "  text-align: right;\n",
              "  white-space: pre-wrap;\n",
              "}\n",
              "</style>\n",
              "<small>shape: (1, 8)</small><table border=\"1\" class=\"dataframe\"><thead><tr><th>Carat Weight</th><th>Cut</th><th>Color</th><th>Clarity</th><th>Polish</th><th>Symmetry</th><th>Report</th><th>Price</th></tr><tr><td>f64</td><td>str</td><td>str</td><td>str</td><td>str</td><td>str</td><td>str</td><td>i64</td></tr></thead><tbody><tr><td>0.77</td><td>&quot;Good&quot;</td><td>&quot;I&quot;</td><td>&quot;VS1&quot;</td><td>&quot;VG&quot;</td><td>&quot;G&quot;</td><td>&quot;AGSL&quot;</td><td>2184</td></tr></tbody></table></div>"
            ]
          },
          "metadata": {}
        }
      ],
      "source": [
        "# Your code here:\n",
        "most_valuable = df.sort(\"Price\", descending=True).head(1)\n",
        "least_valuable = df.sort(\"Price\").head(1)\n",
        "\n",
        "print(\"Most valuable diamond:\")\n",
        "display(most_valuable)\n",
        "\n",
        "print(\"\\nLeast valuable diamond:\")\n",
        "display(least_valuable)"
      ]
    },
    {
      "cell_type": "markdown",
      "metadata": {
        "id": "lAi4CxR5-8Ru"
      },
      "source": [
        "### Question 7: \"Which color grades should we focus on in our premium line? I need typical prices across our color spectrum.\"\n",
        "\n",
        "The CEO wants to understand pricing patterns."
      ]
    },
    {
      "cell_type": "code",
      "execution_count": null,
      "metadata": {
        "colab": {
          "base_uri": "https://localhost:8080/",
          "height": 322
        },
        "id": "CPDJdydY-8Ru",
        "outputId": "5e813411-918e-4ca3-ede1-d94570253a98"
      },
      "outputs": [
        {
          "output_type": "stream",
          "name": "stderr",
          "text": [
            "/tmp/ipython-input-112085331.py:5: DeprecationWarning: `pl.count()` is deprecated. Please use `pl.len()` instead.\n",
            "  pl.count().alias(\"num_diamonds\")\n"
          ]
        },
        {
          "output_type": "display_data",
          "data": {
            "text/plain": [
              "shape: (6, 4)\n",
              "┌───────┬──────────────┬──────────────┬──────────────┐\n",
              "│ Color ┆ avg_price    ┆ median_price ┆ num_diamonds │\n",
              "│ ---   ┆ ---          ┆ ---          ┆ ---          │\n",
              "│ str   ┆ f64          ┆ f64          ┆ u32          │\n",
              "╞═══════╪══════════════╪══════════════╪══════════════╡\n",
              "│ D     ┆ 15255.783661 ┆ 7567.0       ┆ 661          │\n",
              "│ F     ┆ 12712.241856 ┆ 8860.0       ┆ 1013         │\n",
              "│ G     ┆ 12520.050633 ┆ 8800.0       ┆ 1501         │\n",
              "│ E     ┆ 11539.190231 ┆ 7059.5       ┆ 778          │\n",
              "│ H     ┆ 10487.347544 ┆ 7169.0       ┆ 1079         │\n",
              "│ I     ┆ 8989.636364  ┆ 6655.0       ┆ 968          │\n",
              "└───────┴──────────────┴──────────────┴──────────────┘"
            ],
            "text/html": [
              "<div><style>\n",
              ".dataframe > thead > tr,\n",
              ".dataframe > tbody > tr {\n",
              "  text-align: right;\n",
              "  white-space: pre-wrap;\n",
              "}\n",
              "</style>\n",
              "<small>shape: (6, 4)</small><table border=\"1\" class=\"dataframe\"><thead><tr><th>Color</th><th>avg_price</th><th>median_price</th><th>num_diamonds</th></tr><tr><td>str</td><td>f64</td><td>f64</td><td>u32</td></tr></thead><tbody><tr><td>&quot;D&quot;</td><td>15255.783661</td><td>7567.0</td><td>661</td></tr><tr><td>&quot;F&quot;</td><td>12712.241856</td><td>8860.0</td><td>1013</td></tr><tr><td>&quot;G&quot;</td><td>12520.050633</td><td>8800.0</td><td>1501</td></tr><tr><td>&quot;E&quot;</td><td>11539.190231</td><td>7059.5</td><td>778</td></tr><tr><td>&quot;H&quot;</td><td>10487.347544</td><td>7169.0</td><td>1079</td></tr><tr><td>&quot;I&quot;</td><td>8989.636364</td><td>6655.0</td><td>968</td></tr></tbody></table></div>"
            ]
          },
          "metadata": {}
        }
      ],
      "source": [
        "# Your code here:\n",
        "color_prices = df.group_by(\"Color\").agg(\n",
        "    pl.col(\"Price\").mean().alias(\"avg_price\"),\n",
        "    pl.median(\"Price\").alias(\"median_price\"),\n",
        "    pl.count().alias(\"num_diamonds\")\n",
        ").sort(\"avg_price\", descending=True)\n",
        "\n",
        "display(color_prices)"
      ]
    },
    {
      "cell_type": "markdown",
      "metadata": {
        "id": "troKT1D5-8Ru"
      },
      "source": [
        "**Reflection:** After analyzing by color, how has your view of the data changed? What does each row in your result represent now?"
      ]
    },
    {
      "cell_type": "markdown",
      "metadata": {
        "id": "Z6oTX80L-8Ru"
      },
      "source": [
        "[link text](https://)**Your answer:** New grain = After this anlysis I started seeing the data less as individual diamonds but more as a group result shwoing the overall trend."
      ]
    },
    {
      "cell_type": "markdown",
      "metadata": {
        "id": "2b1rtBeT-8Ru"
      },
      "source": [
        "## Section 3: Advanced Strategic Analysis (10 minutes)\n",
        "\n",
        "The CEO leans forward: \"These next questions will shape our strategy for next year.\""
      ]
    },
    {
      "cell_type": "markdown",
      "metadata": {
        "id": "uNojcqTn-8Ru"
      },
      "source": [
        "### Question 8: \"We're thinking of specializing in certain clarity grades. For our investor deck, I need a complete breakdown showing: how many diamonds we have in each clarity grade, their typical price, and the total carats we're holding for each grade.\""
      ]
    },
    {
      "cell_type": "code",
      "execution_count": null,
      "metadata": {
        "colab": {
          "base_uri": "https://localhost:8080/",
          "height": 353
        },
        "id": "ujrfIlNL-8Ru",
        "outputId": "0f27907f-c073-417b-b4b9-a94bb68489a1"
      },
      "outputs": [
        {
          "output_type": "stream",
          "name": "stderr",
          "text": [
            "/tmp/ipython-input-550745019.py:3: DeprecationWarning: `pl.count()` is deprecated. Please use `pl.len()` instead.\n",
            "  pl.count().alias(\"num_diamonds\"),\n"
          ]
        },
        {
          "output_type": "display_data",
          "data": {
            "text/plain": [
              "shape: (7, 5)\n",
              "┌─────────┬──────────────┬──────────────┬──────────────┬──────────────┐\n",
              "│ Clarity ┆ num_diamonds ┆ avg_price    ┆ median_price ┆ total_carats │\n",
              "│ ---     ┆ ---          ┆ ---          ┆ ---          ┆ ---          │\n",
              "│ str     ┆ u32          ┆ f64          ┆ f64          ┆ f64          │\n",
              "╞═════════╪══════════════╪══════════════╪══════════════╪══════════════╡\n",
              "│ FL      ┆ 4            ┆ 63776.0      ┆ 62371.5      ┆ 7.87         │\n",
              "│ IF      ┆ 219          ┆ 22105.844749 ┆ 12647.0      ┆ 316.0        │\n",
              "│ VVS1    ┆ 285          ┆ 16845.680702 ┆ 11142.0      ┆ 389.43       │\n",
              "│ VVS2    ┆ 666          ┆ 14142.177177 ┆ 10266.0      ┆ 876.58       │\n",
              "│ VS1     ┆ 1192         ┆ 13694.113255 ┆ 9245.0       ┆ 1682.74      │\n",
              "│ VS2     ┆ 1575         ┆ 11809.053333 ┆ 7568.0       ┆ 2170.81      │\n",
              "│ SI1     ┆ 2059         ┆ 8018.864012  ┆ 5417.0       ┆ 2563.69      │\n",
              "└─────────┴──────────────┴──────────────┴──────────────┴──────────────┘"
            ],
            "text/html": [
              "<div><style>\n",
              ".dataframe > thead > tr,\n",
              ".dataframe > tbody > tr {\n",
              "  text-align: right;\n",
              "  white-space: pre-wrap;\n",
              "}\n",
              "</style>\n",
              "<small>shape: (7, 5)</small><table border=\"1\" class=\"dataframe\"><thead><tr><th>Clarity</th><th>num_diamonds</th><th>avg_price</th><th>median_price</th><th>total_carats</th></tr><tr><td>str</td><td>u32</td><td>f64</td><td>f64</td><td>f64</td></tr></thead><tbody><tr><td>&quot;FL&quot;</td><td>4</td><td>63776.0</td><td>62371.5</td><td>7.87</td></tr><tr><td>&quot;IF&quot;</td><td>219</td><td>22105.844749</td><td>12647.0</td><td>316.0</td></tr><tr><td>&quot;VVS1&quot;</td><td>285</td><td>16845.680702</td><td>11142.0</td><td>389.43</td></tr><tr><td>&quot;VVS2&quot;</td><td>666</td><td>14142.177177</td><td>10266.0</td><td>876.58</td></tr><tr><td>&quot;VS1&quot;</td><td>1192</td><td>13694.113255</td><td>9245.0</td><td>1682.74</td></tr><tr><td>&quot;VS2&quot;</td><td>1575</td><td>11809.053333</td><td>7568.0</td><td>2170.81</td></tr><tr><td>&quot;SI1&quot;</td><td>2059</td><td>8018.864012</td><td>5417.0</td><td>2563.69</td></tr></tbody></table></div>"
            ]
          },
          "metadata": {}
        }
      ],
      "source": [
        "# Your code here:\n",
        "clarity_breakdown = df.group_by(\"Clarity\").agg([\n",
        "    pl.count().alias(\"num_diamonds\"),\n",
        "    pl.mean(\"Price\").alias(\"avg_price\"),\n",
        "    pl.median(\"Price\").alias(\"median_price\"),\n",
        "    pl.sum(\"Carat Weight\").alias(\"total_carats\")\n",
        "]).sort(\"avg_price\", descending=True)\n",
        "\n",
        "display(clarity_breakdown)"
      ]
    },
    {
      "cell_type": "markdown",
      "metadata": {
        "id": "WMor_bw1-8Ru"
      },
      "source": [
        "### Question 9: \"My luxury competitor claims they have the best prices for every cut-color combination. Show me our pricing structure across these combinations - I want to see where we're competitive.\""
      ]
    },
    {
      "cell_type": "code",
      "execution_count": null,
      "metadata": {
        "colab": {
          "base_uri": "https://localhost:8080/",
          "height": 479
        },
        "id": "3uqrgu1A-8Ru",
        "outputId": "b67babe4-9837-4e50-92cc-788071ba99cf"
      },
      "outputs": [
        {
          "output_type": "stream",
          "name": "stderr",
          "text": [
            "/tmp/ipython-input-985877042.py:4: DeprecationWarning: `pl.count()` is deprecated. Please use `pl.len()` instead.\n",
            "  pl.count().alias(\"num_diamonds\")\n"
          ]
        },
        {
          "output_type": "display_data",
          "data": {
            "text/plain": [
              "shape: (30, 4)\n",
              "┌───────────┬───────┬───────────────┬──────────────┐\n",
              "│ Cut       ┆ Color ┆ average_price ┆ num_diamonds │\n",
              "│ ---       ┆ ---   ┆ ---           ┆ ---          │\n",
              "│ str       ┆ str   ┆ f64           ┆ u32          │\n",
              "╞═══════════╪═══════╪═══════════════╪══════════════╡\n",
              "│ Fair      ┆ D     ┆ 6058.25       ┆ 12           │\n",
              "│ Fair      ┆ E     ┆ 5370.625      ┆ 32           │\n",
              "│ Fair      ┆ F     ┆ 6063.625      ┆ 24           │\n",
              "│ Fair      ┆ G     ┆ 7345.52381    ┆ 21           │\n",
              "│ Fair      ┆ H     ┆ 5908.5        ┆ 24           │\n",
              "│ …         ┆ …     ┆ …             ┆ …            │\n",
              "│ Very Good ┆ E     ┆ 12101.910217  ┆ 323          │\n",
              "│ Very Good ┆ F     ┆ 12413.905495  ┆ 455          │\n",
              "│ Very Good ┆ G     ┆ 12354.013841  ┆ 578          │\n",
              "│ Very Good ┆ H     ┆ 10056.106132  ┆ 424          │\n",
              "│ Very Good ┆ I     ┆ 8930.031332   ┆ 383          │\n",
              "└───────────┴───────┴───────────────┴──────────────┘"
            ],
            "text/html": [
              "<div><style>\n",
              ".dataframe > thead > tr,\n",
              ".dataframe > tbody > tr {\n",
              "  text-align: right;\n",
              "  white-space: pre-wrap;\n",
              "}\n",
              "</style>\n",
              "<small>shape: (30, 4)</small><table border=\"1\" class=\"dataframe\"><thead><tr><th>Cut</th><th>Color</th><th>average_price</th><th>num_diamonds</th></tr><tr><td>str</td><td>str</td><td>f64</td><td>u32</td></tr></thead><tbody><tr><td>&quot;Fair&quot;</td><td>&quot;D&quot;</td><td>6058.25</td><td>12</td></tr><tr><td>&quot;Fair&quot;</td><td>&quot;E&quot;</td><td>5370.625</td><td>32</td></tr><tr><td>&quot;Fair&quot;</td><td>&quot;F&quot;</td><td>6063.625</td><td>24</td></tr><tr><td>&quot;Fair&quot;</td><td>&quot;G&quot;</td><td>7345.52381</td><td>21</td></tr><tr><td>&quot;Fair&quot;</td><td>&quot;H&quot;</td><td>5908.5</td><td>24</td></tr><tr><td>&hellip;</td><td>&hellip;</td><td>&hellip;</td><td>&hellip;</td></tr><tr><td>&quot;Very Good&quot;</td><td>&quot;E&quot;</td><td>12101.910217</td><td>323</td></tr><tr><td>&quot;Very Good&quot;</td><td>&quot;F&quot;</td><td>12413.905495</td><td>455</td></tr><tr><td>&quot;Very Good&quot;</td><td>&quot;G&quot;</td><td>12354.013841</td><td>578</td></tr><tr><td>&quot;Very Good&quot;</td><td>&quot;H&quot;</td><td>10056.106132</td><td>424</td></tr><tr><td>&quot;Very Good&quot;</td><td>&quot;I&quot;</td><td>8930.031332</td><td>383</td></tr></tbody></table></div>"
            ]
          },
          "metadata": {}
        }
      ],
      "source": [
        "# Your code here:\n",
        "pricing_by_cut_color = df.group_by([\"Cut\", \"Color\"]).agg(\n",
        "    pl.col(\"Price\").mean().alias(\"average_price\"),\n",
        "    pl.count().alias(\"num_diamonds\")\n",
        ").sort([\"Cut\", \"Color\"])\n",
        "\n",
        "display(pricing_by_cut_color)"
      ]
    },
    {
      "cell_type": "markdown",
      "metadata": {
        "id": "5d_CV-Gq-8Ru"
      },
      "source": [
        "**Reflection:** How specific is your analysis now? What level of detail does each row represent?"
      ]
    },
    {
      "cell_type": "markdown",
      "metadata": {
        "id": "nGbQY77z-8Ru"
      },
      "source": [
        "**Your answer:** New grain = Very specific, shows the price by color number of diamonds and the average price. It's so much easier to understand the data now."
      ]
    },
    {
      "cell_type": "markdown",
      "metadata": {
        "id": "O42S1Au9-8Ru"
      },
      "source": [
        "### Question 10: URGENT - \"Our biggest client is interested in purchasing entire inventory segments. They asked: 'Which color-cut combinations represent your highest total inventory value?' Show me the top 5 most valuable inventory segments by total worth, and include how many diamonds are in each segment.\"\n",
        "\n",
        "This is critical for tomorrow's negotiation."
      ]
    },
    {
      "cell_type": "code",
      "execution_count": null,
      "metadata": {
        "colab": {
          "base_uri": "https://localhost:8080/",
          "height": 291
        },
        "id": "DrvsdYR1-8Ru",
        "outputId": "95da5c3c-37bc-43ec-d234-e86852db5685"
      },
      "outputs": [
        {
          "output_type": "stream",
          "name": "stderr",
          "text": [
            "/tmp/ipython-input-23991976.py:4: DeprecationWarning: `pl.count()` is deprecated. Please use `pl.len()` instead.\n",
            "  pl.count().alias(\"num_diamonds\")\n"
          ]
        },
        {
          "output_type": "display_data",
          "data": {
            "text/plain": [
              "shape: (5, 4)\n",
              "┌───────┬───────────┬─────────────┬──────────────┐\n",
              "│ Color ┆ Cut       ┆ total_value ┆ num_diamonds │\n",
              "│ ---   ┆ ---       ┆ ---         ┆ ---          │\n",
              "│ str   ┆ str       ┆ i64         ┆ u32          │\n",
              "╞═══════╪═══════════╪═════════════╪══════════════╡\n",
              "│ G     ┆ Ideal     ┆ 9363514     ┆ 690          │\n",
              "│ G     ┆ Very Good ┆ 7140620     ┆ 578          │\n",
              "│ F     ┆ Very Good ┆ 5648327     ┆ 455          │\n",
              "│ F     ┆ Ideal     ┆ 5346782     ┆ 363          │\n",
              "│ H     ┆ Ideal     ┆ 5279687     ┆ 458          │\n",
              "└───────┴───────────┴─────────────┴──────────────┘"
            ],
            "text/html": [
              "<div><style>\n",
              ".dataframe > thead > tr,\n",
              ".dataframe > tbody > tr {\n",
              "  text-align: right;\n",
              "  white-space: pre-wrap;\n",
              "}\n",
              "</style>\n",
              "<small>shape: (5, 4)</small><table border=\"1\" class=\"dataframe\"><thead><tr><th>Color</th><th>Cut</th><th>total_value</th><th>num_diamonds</th></tr><tr><td>str</td><td>str</td><td>i64</td><td>u32</td></tr></thead><tbody><tr><td>&quot;G&quot;</td><td>&quot;Ideal&quot;</td><td>9363514</td><td>690</td></tr><tr><td>&quot;G&quot;</td><td>&quot;Very Good&quot;</td><td>7140620</td><td>578</td></tr><tr><td>&quot;F&quot;</td><td>&quot;Very Good&quot;</td><td>5648327</td><td>455</td></tr><tr><td>&quot;F&quot;</td><td>&quot;Ideal&quot;</td><td>5346782</td><td>363</td></tr><tr><td>&quot;H&quot;</td><td>&quot;Ideal&quot;</td><td>5279687</td><td>458</td></tr></tbody></table></div>"
            ]
          },
          "metadata": {}
        }
      ],
      "source": [
        "# Your code here:\n",
        "top_segments = df.group_by([\"Color\", \"Cut\"]).agg([\n",
        "    pl.sum(\"Price\").alias(\"total_value\"),\n",
        "    pl.count().alias(\"num_diamonds\")\n",
        "]).sort(\"total_value\", descending=True).head(5)\n",
        "\n",
        "display(top_segments)"
      ]
    },
    {
      "cell_type": "markdown",
      "metadata": {
        "id": "xLSw7edQ-8Ru"
      },
      "source": [
        "## Debrief\n",
        "\n",
        "Congratulations! You've just completed your first day as the diamond company's data analyst.\n",
        "\n",
        "Remember:\n",
        "- CEOs speak in business language, not technical terms\n",
        "- Always understand what each row represents before analyzing\n",
        "- Business questions contain clues about which operations to use"
      ]
    }
  ],
  "metadata": {
    "kernelspec": {
      "display_name": "Python 3",
      "language": "python",
      "name": "python3"
    },
    "language_info": {
      "codemirror_mode": {
        "name": "ipython",
        "version": 3
      },
      "file_extension": ".py",
      "mimetype": "text/x-python",
      "name": "python",
      "nbconvert_exporter": "python",
      "pygments_lexer": "ipython3",
      "version": "3.12.0"
    },
    "colab": {
      "provenance": []
    }
  },
  "nbformat": 4,
  "nbformat_minor": 0
}